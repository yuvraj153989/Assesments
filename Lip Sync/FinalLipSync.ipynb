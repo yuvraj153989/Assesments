{
  "nbformat": 4,
  "nbformat_minor": 0,
  "metadata": {
    "colab": {
      "provenance": [],
      "gpuType": "T4"
    },
    "kernelspec": {
      "name": "python3",
      "display_name": "Python 3"
    },
    "language_info": {
      "name": "python"
    },
    "accelerator": "GPU"
  },
  "cells": [
    {
      "cell_type": "code",
      "execution_count": null,
      "metadata": {
        "colab": {
          "base_uri": "https://localhost:8080/"
        },
        "id": "JYDpIGx_UsdB",
        "outputId": "11f76e51-eeea-4506-c2d3-46ef4e0c2421"
      },
      "outputs": [
        {
          "output_type": "stream",
          "name": "stdout",
          "text": [
            "Sat Dec 23 11:28:42 2023       \n",
            "+---------------------------------------------------------------------------------------+\n",
            "| NVIDIA-SMI 535.104.05             Driver Version: 535.104.05   CUDA Version: 12.2     |\n",
            "|-----------------------------------------+----------------------+----------------------+\n",
            "| GPU  Name                 Persistence-M | Bus-Id        Disp.A | Volatile Uncorr. ECC |\n",
            "| Fan  Temp   Perf          Pwr:Usage/Cap |         Memory-Usage | GPU-Util  Compute M. |\n",
            "|                                         |                      |               MIG M. |\n",
            "|=========================================+======================+======================|\n",
            "|   0  Tesla T4                       Off | 00000000:00:04.0 Off |                    0 |\n",
            "| N/A   41C    P8               9W /  70W |      0MiB / 15360MiB |      0%      Default |\n",
            "|                                         |                      |                  N/A |\n",
            "+-----------------------------------------+----------------------+----------------------+\n",
            "                                                                                         \n",
            "+---------------------------------------------------------------------------------------+\n",
            "| Processes:                                                                            |\n",
            "|  GPU   GI   CI        PID   Type   Process name                            GPU Memory |\n",
            "|        ID   ID                                                             Usage      |\n",
            "|=======================================================================================|\n",
            "|  No running processes found                                                           |\n",
            "+---------------------------------------------------------------------------------------+\n"
          ]
        }
      ],
      "source": [
        "!nvidia-smi"
      ]
    },
    {
      "cell_type": "code",
      "source": [
        "from google.colab import drive\n",
        "drive.mount('/content/gdrive')"
      ],
      "metadata": {
        "colab": {
          "base_uri": "https://localhost:8080/"
        },
        "id": "mdBE9XpWUuGd",
        "outputId": "2de2e87f-9740-42cc-e120-cf662226d777"
      },
      "execution_count": null,
      "outputs": [
        {
          "output_type": "stream",
          "name": "stdout",
          "text": [
            "Mounted at /content/gdrive\n"
          ]
        }
      ]
    },
    {
      "cell_type": "code",
      "source": [
        "!git clone https://github.com/Rudrabha/Wav2Lip.git"
      ],
      "metadata": {
        "colab": {
          "base_uri": "https://localhost:8080/"
        },
        "id": "HRhhwBO2U1nY",
        "outputId": "0db25be5-7705-4376-ce5c-84d764bcbf8e"
      },
      "execution_count": null,
      "outputs": [
        {
          "output_type": "stream",
          "name": "stdout",
          "text": [
            "Cloning into 'Wav2Lip'...\n",
            "remote: Enumerating objects: 372, done.\u001b[K\n",
            "remote: Counting objects: 100% (12/12), done.\u001b[K\n",
            "remote: Compressing objects: 100% (9/9), done.\u001b[K\n",
            "remote: Total 372 (delta 6), reused 5 (delta 3), pack-reused 360\u001b[K\n",
            "Receiving objects: 100% (372/372), 529.54 KiB | 13.24 MiB/s, done.\n",
            "Resolving deltas: 100% (204/204), done.\n"
          ]
        }
      ]
    },
    {
      "cell_type": "code",
      "source": [
        "!cp -ri \"/content/gdrive/MyDrive/Wav2Lip/wav2lip.pth\" /content/Wav2Lip/checkpoints/"
      ],
      "metadata": {
        "id": "_VJ6pa8xU7rP"
      },
      "execution_count": null,
      "outputs": []
    },
    {
      "cell_type": "code",
      "source": [
        "!cp -ri \"/content/gdrive/MyDrive/Wav2Lip/wav2lip_gan.pth\" /content/Wav2Lip/checkpoints/"
      ],
      "metadata": {
        "colab": {
          "base_uri": "https://localhost:8080/"
        },
        "id": "tTzv0Q1wbpnv",
        "outputId": "7f004b49-a7db-4d47-b2bc-f4573325a6e6"
      },
      "execution_count": null,
      "outputs": [
        {
          "output_type": "stream",
          "name": "stdout",
          "text": [
            "cp: overwrite '/content/Wav2Lip/checkpoints/wav2lip_gan.pth'? ^C\n"
          ]
        }
      ]
    },
    {
      "cell_type": "code",
      "source": [
        "!cd Wav2Lip && pip install -r requirements.txt"
      ],
      "metadata": {
        "colab": {
          "base_uri": "https://localhost:8080/"
        },
        "id": "9PvuBnjXVAob",
        "outputId": "bb0708eb-231b-4db5-bfd1-f17d19bf19f1"
      },
      "execution_count": null,
      "outputs": [
        {
          "output_type": "stream",
          "name": "stdout",
          "text": [
            "Collecting librosa==0.7.0 (from -r requirements.txt (line 1))\n",
            "  Downloading librosa-0.7.0.tar.gz (1.6 MB)\n",
            "\u001b[2K     \u001b[90m━━━━━━━━━━━━━━━━━━━━━━━━━━━━━━━━━━━━━━━━\u001b[0m \u001b[32m1.6/1.6 MB\u001b[0m \u001b[31m2.9 MB/s\u001b[0m eta \u001b[36m0:00:00\u001b[0m\n",
            "\u001b[?25h  Preparing metadata (setup.py) ... \u001b[?25l\u001b[?25hdone\n",
            "Collecting numpy==1.17.1 (from -r requirements.txt (line 2))\n",
            "  Downloading numpy-1.17.1.zip (6.5 MB)\n",
            "\u001b[2K     \u001b[90m━━━━━━━━━━━━━━━━━━━━━━━━━━━━━━━━━━━━━━━━\u001b[0m \u001b[32m6.5/6.5 MB\u001b[0m \u001b[31m12.0 MB/s\u001b[0m eta \u001b[36m0:00:00\u001b[0m\n",
            "\u001b[?25h  Preparing metadata (setup.py) ... \u001b[?25l\u001b[?25hdone\n",
            "Requirement already satisfied: opencv-contrib-python>=4.2.0.34 in /usr/local/lib/python3.10/dist-packages (from -r requirements.txt (line 3)) (4.8.0.76)\n",
            "\u001b[31mERROR: Could not find a version that satisfies the requirement opencv-python==4.1.0.25 (from versions: 3.4.0.14, 3.4.10.37, 3.4.11.39, 3.4.11.41, 3.4.11.43, 3.4.11.45, 3.4.13.47, 3.4.15.55, 3.4.16.57, 3.4.16.59, 3.4.17.61, 3.4.17.63, 3.4.18.65, 4.3.0.38, 4.4.0.40, 4.4.0.42, 4.4.0.44, 4.4.0.46, 4.5.1.48, 4.5.3.56, 4.5.4.58, 4.5.4.60, 4.5.5.62, 4.5.5.64, 4.6.0.66, 4.7.0.68, 4.7.0.72, 4.8.0.74, 4.8.0.76, 4.8.1.78)\u001b[0m\u001b[31m\n",
            "\u001b[0m\u001b[31mERROR: No matching distribution found for opencv-python==4.1.0.25\u001b[0m\u001b[31m\n",
            "\u001b[0m"
          ]
        }
      ]
    },
    {
      "cell_type": "code",
      "source": [
        "!wget \"https://www.adrianbulat.com/downloads/python-fan/s3fd-619a316812.pth\" -O \"Wav2Lip/face_detection/detection/sfd/s3fd.pth\""
      ],
      "metadata": {
        "colab": {
          "base_uri": "https://localhost:8080/"
        },
        "id": "C98pcwuMVJ3x",
        "outputId": "cdc324ec-5b21-4539-c48d-5d5c3ea00303"
      },
      "execution_count": null,
      "outputs": [
        {
          "output_type": "stream",
          "name": "stdout",
          "text": [
            "--2023-12-23 11:29:45--  https://www.adrianbulat.com/downloads/python-fan/s3fd-619a316812.pth\n",
            "Resolving www.adrianbulat.com (www.adrianbulat.com)... 45.136.29.207\n",
            "Connecting to www.adrianbulat.com (www.adrianbulat.com)|45.136.29.207|:443... connected.\n",
            "HTTP request sent, awaiting response... 200 OK\n",
            "Length: 89843225 (86M) [application/octet-stream]\n",
            "Saving to: ‘Wav2Lip/face_detection/detection/sfd/s3fd.pth’\n",
            "\n",
            "Wav2Lip/face_detect 100%[===================>]  85.68M   151MB/s    in 0.6s    \n",
            "\n",
            "2023-12-23 11:29:45 (151 MB/s) - ‘Wav2Lip/face_detection/detection/sfd/s3fd.pth’ saved [89843225/89843225]\n",
            "\n"
          ]
        }
      ]
    },
    {
      "cell_type": "code",
      "source": [
        "!pip install librosa==0.9.1"
      ],
      "metadata": {
        "colab": {
          "base_uri": "https://localhost:8080/"
        },
        "id": "tjuF3C_9VZ-D",
        "outputId": "51fb1977-3ce2-46f2-8158-af1eb6066261"
      },
      "execution_count": null,
      "outputs": [
        {
          "output_type": "stream",
          "name": "stdout",
          "text": [
            "Collecting librosa==0.9.1\n",
            "  Downloading librosa-0.9.1-py3-none-any.whl (213 kB)\n",
            "\u001b[2K     \u001b[90m━━━━━━━━━━━━━━━━━━━━━━━━━━━━━━━━━━━━━━━━\u001b[0m \u001b[32m213.1/213.1 kB\u001b[0m \u001b[31m2.0 MB/s\u001b[0m eta \u001b[36m0:00:00\u001b[0m\n",
            "\u001b[?25hRequirement already satisfied: audioread>=2.1.5 in /usr/local/lib/python3.10/dist-packages (from librosa==0.9.1) (3.0.1)\n",
            "Requirement already satisfied: numpy>=1.17.0 in /usr/local/lib/python3.10/dist-packages (from librosa==0.9.1) (1.23.5)\n",
            "Requirement already satisfied: scipy>=1.2.0 in /usr/local/lib/python3.10/dist-packages (from librosa==0.9.1) (1.11.4)\n",
            "Requirement already satisfied: scikit-learn>=0.19.1 in /usr/local/lib/python3.10/dist-packages (from librosa==0.9.1) (1.2.2)\n",
            "Requirement already satisfied: joblib>=0.14 in /usr/local/lib/python3.10/dist-packages (from librosa==0.9.1) (1.3.2)\n",
            "Requirement already satisfied: decorator>=4.0.10 in /usr/local/lib/python3.10/dist-packages (from librosa==0.9.1) (4.4.2)\n",
            "Collecting resampy>=0.2.2 (from librosa==0.9.1)\n",
            "  Downloading resampy-0.4.2-py3-none-any.whl (3.1 MB)\n",
            "\u001b[2K     \u001b[90m━━━━━━━━━━━━━━━━━━━━━━━━━━━━━━━━━━━━━━━━\u001b[0m \u001b[32m3.1/3.1 MB\u001b[0m \u001b[31m14.7 MB/s\u001b[0m eta \u001b[36m0:00:00\u001b[0m\n",
            "\u001b[?25hRequirement already satisfied: numba>=0.45.1 in /usr/local/lib/python3.10/dist-packages (from librosa==0.9.1) (0.58.1)\n",
            "Requirement already satisfied: soundfile>=0.10.2 in /usr/local/lib/python3.10/dist-packages (from librosa==0.9.1) (0.12.1)\n",
            "Requirement already satisfied: pooch>=1.0 in /usr/local/lib/python3.10/dist-packages (from librosa==0.9.1) (1.8.0)\n",
            "Requirement already satisfied: packaging>=20.0 in /usr/local/lib/python3.10/dist-packages (from librosa==0.9.1) (23.2)\n",
            "Requirement already satisfied: llvmlite<0.42,>=0.41.0dev0 in /usr/local/lib/python3.10/dist-packages (from numba>=0.45.1->librosa==0.9.1) (0.41.1)\n",
            "Requirement already satisfied: platformdirs>=2.5.0 in /usr/local/lib/python3.10/dist-packages (from pooch>=1.0->librosa==0.9.1) (4.1.0)\n",
            "Requirement already satisfied: requests>=2.19.0 in /usr/local/lib/python3.10/dist-packages (from pooch>=1.0->librosa==0.9.1) (2.31.0)\n",
            "Requirement already satisfied: threadpoolctl>=2.0.0 in /usr/local/lib/python3.10/dist-packages (from scikit-learn>=0.19.1->librosa==0.9.1) (3.2.0)\n",
            "Requirement already satisfied: cffi>=1.0 in /usr/local/lib/python3.10/dist-packages (from soundfile>=0.10.2->librosa==0.9.1) (1.16.0)\n",
            "Requirement already satisfied: pycparser in /usr/local/lib/python3.10/dist-packages (from cffi>=1.0->soundfile>=0.10.2->librosa==0.9.1) (2.21)\n",
            "Requirement already satisfied: charset-normalizer<4,>=2 in /usr/local/lib/python3.10/dist-packages (from requests>=2.19.0->pooch>=1.0->librosa==0.9.1) (3.3.2)\n",
            "Requirement already satisfied: idna<4,>=2.5 in /usr/local/lib/python3.10/dist-packages (from requests>=2.19.0->pooch>=1.0->librosa==0.9.1) (3.6)\n",
            "Requirement already satisfied: urllib3<3,>=1.21.1 in /usr/local/lib/python3.10/dist-packages (from requests>=2.19.0->pooch>=1.0->librosa==0.9.1) (2.0.7)\n",
            "Requirement already satisfied: certifi>=2017.4.17 in /usr/local/lib/python3.10/dist-packages (from requests>=2.19.0->pooch>=1.0->librosa==0.9.1) (2023.11.17)\n",
            "Installing collected packages: resampy, librosa\n",
            "  Attempting uninstall: librosa\n",
            "    Found existing installation: librosa 0.10.1\n",
            "    Uninstalling librosa-0.10.1:\n",
            "      Successfully uninstalled librosa-0.10.1\n",
            "Successfully installed librosa-0.9.1 resampy-0.4.2\n"
          ]
        }
      ]
    },
    {
      "cell_type": "code",
      "source": [
        "!pip install face_recognition"
      ],
      "metadata": {
        "colab": {
          "base_uri": "https://localhost:8080/"
        },
        "id": "4vXVwL7_ZGox",
        "outputId": "83dea24f-8200-415f-f83b-6db9e11b2334"
      },
      "execution_count": null,
      "outputs": [
        {
          "output_type": "stream",
          "name": "stdout",
          "text": [
            "Collecting face_recognition\n",
            "  Downloading face_recognition-1.3.0-py2.py3-none-any.whl (15 kB)\n",
            "Collecting face-recognition-models>=0.3.0 (from face_recognition)\n",
            "  Downloading face_recognition_models-0.3.0.tar.gz (100.1 MB)\n",
            "\u001b[2K     \u001b[90m━━━━━━━━━━━━━━━━━━━━━━━━━━━━━━━━━━━━━━━━\u001b[0m \u001b[32m100.1/100.1 MB\u001b[0m \u001b[31m2.4 MB/s\u001b[0m eta \u001b[36m0:00:00\u001b[0m\n",
            "\u001b[?25h  Preparing metadata (setup.py) ... \u001b[?25l\u001b[?25hdone\n",
            "Requirement already satisfied: Click>=6.0 in /usr/local/lib/python3.10/dist-packages (from face_recognition) (8.1.7)\n",
            "Requirement already satisfied: dlib>=19.7 in /usr/local/lib/python3.10/dist-packages (from face_recognition) (19.24.2)\n",
            "Requirement already satisfied: numpy in /usr/local/lib/python3.10/dist-packages (from face_recognition) (1.23.5)\n",
            "Requirement already satisfied: Pillow in /usr/local/lib/python3.10/dist-packages (from face_recognition) (9.4.0)\n",
            "Building wheels for collected packages: face-recognition-models\n",
            "  Building wheel for face-recognition-models (setup.py) ... \u001b[?25l\u001b[?25hdone\n",
            "  Created wheel for face-recognition-models: filename=face_recognition_models-0.3.0-py2.py3-none-any.whl size=100566170 sha256=5a1b728ddb702febe3a2ed9b472525303acc494103c3e9110616fe4461f4e091\n",
            "  Stored in directory: /root/.cache/pip/wheels/7a/eb/cf/e9eced74122b679557f597bb7c8e4c739cfcac526db1fd523d\n",
            "Successfully built face-recognition-models\n",
            "Installing collected packages: face-recognition-models, face_recognition\n",
            "Successfully installed face-recognition-models-0.3.0 face_recognition-1.3.0\n"
          ]
        }
      ]
    },
    {
      "cell_type": "code",
      "source": [
        "!cd Wav2Lip && python inference.py --checkpoint_path checkpoints/wav2lip_gan.pth --face \"/content/gdrive/MyDrive/Wav2Lip/video1.mp4\" --audio \"/content/gdrive/MyDrive/Wav2Lip/audio.wav\"\n"
      ],
      "metadata": {
        "colab": {
          "base_uri": "https://localhost:8080/"
        },
        "id": "cFozUVdBVQQy",
        "outputId": "b0b48a31-2139-43e9-c769-dd28ff08f6e2"
      },
      "execution_count": null,
      "outputs": [
        {
          "output_type": "stream",
          "name": "stdout",
          "text": [
            "Using cuda for inference.\n",
            "ffmpeg version 4.4.2-0ubuntu0.22.04.1 Copyright (c) 2000-2021 the FFmpeg developers\n",
            "  built with gcc 11 (Ubuntu 11.2.0-19ubuntu1)\n",
            "  configuration: --prefix=/usr --extra-version=0ubuntu0.22.04.1 --toolchain=hardened --libdir=/usr/lib/x86_64-linux-gnu --incdir=/usr/include/x86_64-linux-gnu --arch=amd64 --enable-gpl --disable-stripping --enable-gnutls --enable-ladspa --enable-libaom --enable-libass --enable-libbluray --enable-libbs2b --enable-libcaca --enable-libcdio --enable-libcodec2 --enable-libdav1d --enable-libflite --enable-libfontconfig --enable-libfreetype --enable-libfribidi --enable-libgme --enable-libgsm --enable-libjack --enable-libmp3lame --enable-libmysofa --enable-libopenjpeg --enable-libopenmpt --enable-libopus --enable-libpulse --enable-librabbitmq --enable-librubberband --enable-libshine --enable-libsnappy --enable-libsoxr --enable-libspeex --enable-libsrt --enable-libssh --enable-libtheora --enable-libtwolame --enable-libvidstab --enable-libvorbis --enable-libvpx --enable-libwebp --enable-libx265 --enable-libxml2 --enable-libxvid --enable-libzimg --enable-libzmq --enable-libzvbi --enable-lv2 --enable-omx --enable-openal --enable-opencl --enable-opengl --enable-sdl2 --enable-pocketsphinx --enable-librsvg --enable-libmfx --enable-libdc1394 --enable-libdrm --enable-libiec61883 --enable-chromaprint --enable-frei0r --enable-libx264 --enable-shared\n",
            "  libavutil      56. 70.100 / 56. 70.100\n",
            "  libavcodec     58.134.100 / 58.134.100\n",
            "  libavformat    58. 76.100 / 58. 76.100\n",
            "  libavdevice    58. 13.100 / 58. 13.100\n",
            "  libavfilter     7.110.100 /  7.110.100\n",
            "  libswscale      5.  9.100 /  5.  9.100\n",
            "  libswresample   3.  9.100 /  3.  9.100\n",
            "  libpostproc    55.  9.100 / 55.  9.100\n",
            "\u001b[0;35m[mp3 @ 0x5922a911e240] \u001b[0m\u001b[0;33mEstimating duration from bitrate, this may be inaccurate\n",
            "\u001b[0mInput #0, mp3, from '/content/gdrive/MyDrive/Wav2Lip/audio.wav':\n",
            "  Duration: 00:01:07.32, start: 0.000000, bitrate: 96 kb/s\n",
            "  Stream #0:0: Audio: mp3, 44100 Hz, mono, fltp, 96 kb/s\n",
            "Input #1, avi, from 'temp/result.avi':\n",
            "  Metadata:\n",
            "    software        : Lavf59.27.100\n",
            "  Duration: 00:01:07.20, start: 0.000000, bitrate: 754 kb/s\n",
            "  Stream #1:0: Video: mpeg4 (Simple Profile) (DIVX / 0x58564944), yuv420p, 640x320 [SAR 1:1 DAR 2:1], 749 kb/s, 25 fps, 25 tbr, 25 tbn, 25 tbc\n",
            "Stream mapping:\n",
            "  Stream #1:0 -> #0:0 (mpeg4 (native) -> h264 (libx264))\n",
            "  Stream #0:0 -> #0:1 (mp3 (mp3float) -> aac (native))\n",
            "Press [q] to stop, [?] for help\n",
            "\u001b[1;36m[libx264 @ 0x5922a9176d00] \u001b[0m\u001b[0;33m-qscale is ignored, -crf is recommended.\n",
            "\u001b[0m\u001b[1;36m[libx264 @ 0x5922a9176d00] \u001b[0musing SAR=1/1\n",
            "\u001b[1;36m[libx264 @ 0x5922a9176d00] \u001b[0musing cpu capabilities: MMX2 SSE2Fast SSSE3 SSE4.2 AVX FMA3 BMI2 AVX2 AVX512\n",
            "\u001b[1;36m[libx264 @ 0x5922a9176d00] \u001b[0mprofile High, level 2.2, 4:2:0, 8-bit\n",
            "\u001b[1;36m[libx264 @ 0x5922a9176d00] \u001b[0m264 - core 163 r3060 5db6aa6 - H.264/MPEG-4 AVC codec - Copyleft 2003-2021 - http://www.videolan.org/x264.html - options: cabac=1 ref=3 deblock=1:0:0 analyse=0x3:0x113 me=hex subme=7 psy=1 psy_rd=1.00:0.00 mixed_ref=1 me_range=16 chroma_me=1 trellis=1 8x8dct=1 cqm=0 deadzone=21,11 fast_pskip=1 chroma_qp_offset=-2 threads=3 lookahead_threads=1 sliced_threads=0 nr=0 decimate=1 interlaced=0 bluray_compat=0 constrained_intra=0 bframes=3 b_pyramid=2 b_adapt=1 b_bias=0 direct=1 weightb=1 open_gop=0 weightp=2 keyint=250 keyint_min=25 scenecut=40 intra_refresh=0 rc_lookahead=40 rc=crf mbtree=1 crf=23.0 qcomp=0.60 qpmin=0 qpmax=69 qpstep=4 ip_ratio=1.40 aq=1:1.00\n",
            "Output #0, mp4, to 'results/result_voice.mp4':\n",
            "  Metadata:\n",
            "    encoder         : Lavf58.76.100\n",
            "  Stream #0:0: Video: h264 (avc1 / 0x31637661), yuv420p(progressive), 640x320 [SAR 1:1 DAR 2:1], q=2-31, 25 fps, 12800 tbn\n",
            "    Metadata:\n",
            "      encoder         : Lavc58.134.100 libx264\n",
            "    Side data:\n",
            "      cpb: bitrate max/min/avg: 0/0/0 buffer size: 0 vbv_delay: N/A\n",
            "  Stream #0:1: Audio: aac (LC) (mp4a / 0x6134706D), 44100 Hz, mono, fltp, 69 kb/s\n",
            "    Metadata:\n",
            "      encoder         : Lavc58.134.100 aac\n",
            "frame= 1680 fps= 96 q=-1.0 Lsize=    2953kB time=00:01:07.31 bitrate= 359.4kbits/s speed=3.86x    \n",
            "video:2330kB audio:571kB subtitle:0kB other streams:0kB global headers:0kB muxing overhead: 1.810296%\n",
            "\u001b[1;36m[libx264 @ 0x5922a9176d00] \u001b[0mframe I:13    Avg QP:16.85  size: 15561\n",
            "\u001b[1;36m[libx264 @ 0x5922a9176d00] \u001b[0mframe P:930   Avg QP:21.94  size:  1820\n",
            "\u001b[1;36m[libx264 @ 0x5922a9176d00] \u001b[0mframe B:737   Avg QP:26.02  size:   665\n",
            "\u001b[1;36m[libx264 @ 0x5922a9176d00] \u001b[0mconsecutive B-frames: 35.9% 12.9% 12.0% 39.3%\n",
            "\u001b[1;36m[libx264 @ 0x5922a9176d00] \u001b[0mmb I  I16..4: 24.3% 61.5% 14.2%\n",
            "\u001b[1;36m[libx264 @ 0x5922a9176d00] \u001b[0mmb P  I16..4:  1.0%  4.3%  0.3%  P16..4: 30.7%  7.5%  3.2%  0.0%  0.0%    skip:53.0%\n",
            "\u001b[1;36m[libx264 @ 0x5922a9176d00] \u001b[0mmb B  I16..4:  0.3%  1.4%  0.1%  B16..8: 28.7%  2.9%  0.4%  direct: 0.4%  skip:66.0%  L0:50.0% L1:44.5% BI: 5.5%\n",
            "\u001b[1;36m[libx264 @ 0x5922a9176d00] \u001b[0m8x8 transform intra:75.2% inter:79.1%\n",
            "\u001b[1;36m[libx264 @ 0x5922a9176d00] \u001b[0mcoded y,uvDC,uvAC intra: 39.7% 42.5% 13.9% inter: 6.5% 8.5% 0.2%\n",
            "\u001b[1;36m[libx264 @ 0x5922a9176d00] \u001b[0mi16 v,h,dc,p: 44% 24% 22%  9%\n",
            "\u001b[1;36m[libx264 @ 0x5922a9176d00] \u001b[0mi8 v,h,dc,ddl,ddr,vr,hd,vl,hu: 25% 18% 43%  2%  2%  2%  2%  2%  3%\n",
            "\u001b[1;36m[libx264 @ 0x5922a9176d00] \u001b[0mi4 v,h,dc,ddl,ddr,vr,hd,vl,hu: 28% 22% 15%  4%  7%  7%  7%  5%  4%\n",
            "\u001b[1;36m[libx264 @ 0x5922a9176d00] \u001b[0mi8c dc,h,v,p: 56% 20% 20%  4%\n",
            "\u001b[1;36m[libx264 @ 0x5922a9176d00] \u001b[0mWeighted P-Frames: Y:0.1% UV:0.0%\n",
            "\u001b[1;36m[libx264 @ 0x5922a9176d00] \u001b[0mref P L0: 72.8%  9.9% 13.1%  4.3%  0.0%\n",
            "\u001b[1;36m[libx264 @ 0x5922a9176d00] \u001b[0mref B L0: 83.7% 13.1%  3.2%\n",
            "\u001b[1;36m[libx264 @ 0x5922a9176d00] \u001b[0mref B L1: 96.3%  3.7%\n",
            "\u001b[1;36m[libx264 @ 0x5922a9176d00] \u001b[0mkb/s:283.92\n",
            "\u001b[1;36m[aac @ 0x5922a917b740] \u001b[0mQavg: 158.533\n",
            "Reading video frames...\n",
            "Number of frames available for inference: 1675\n",
            "/content/Wav2Lip/audio.py:100: FutureWarning: Pass sr=16000, n_fft=800 as keyword args. From version 0.10 passing these as positional arguments will result in an error\n",
            "  return librosa.filters.mel(hp.sample_rate, hp.n_fft, n_mels=hp.num_mels,\n",
            "(80, 5386)\n",
            "Length of mel chunks: 1680\n",
            "  0% 0/14 [00:00<?, ?it/s]\n",
            "  0% 0/105 [00:00<?, ?it/s]\u001b[A\n",
            "  1% 1/105 [00:08<15:28,  8.92s/it]\u001b[A\n",
            "  2% 2/105 [00:09<07:09,  4.17s/it]\u001b[A\n",
            "  3% 3/105 [00:10<04:30,  2.65s/it]\u001b[A\n",
            "  4% 4/105 [00:11<03:12,  1.91s/it]\u001b[A\n",
            "  5% 5/105 [00:12<02:26,  1.47s/it]\u001b[A\n",
            "  6% 6/105 [00:12<01:59,  1.21s/it]\u001b[A\n",
            "  7% 7/105 [00:13<01:41,  1.03s/it]\u001b[A\n",
            "  8% 8/105 [00:14<01:29,  1.09it/s]\u001b[A\n",
            "  9% 9/105 [00:14<01:22,  1.16it/s]\u001b[A\n",
            " 10% 10/105 [00:15<01:16,  1.25it/s]\u001b[A\n",
            " 10% 11/105 [00:16<01:11,  1.31it/s]\u001b[A\n",
            " 11% 12/105 [00:16<01:08,  1.35it/s]\u001b[A\n",
            " 12% 13/105 [00:17<01:06,  1.38it/s]\u001b[A\n",
            " 13% 14/105 [00:18<01:04,  1.42it/s]\u001b[A\n",
            " 14% 15/105 [00:19<01:05,  1.38it/s]\u001b[A\n",
            " 15% 16/105 [00:19<01:10,  1.26it/s]\u001b[A\n",
            " 16% 17/105 [00:21<01:17,  1.14it/s]\u001b[A\n",
            " 17% 18/105 [00:22<01:26,  1.01it/s]\u001b[A\n",
            " 18% 19/105 [00:23<01:33,  1.08s/it]\u001b[A\n",
            " 19% 20/105 [00:24<01:35,  1.12s/it]\u001b[A\n",
            " 20% 21/105 [00:25<01:35,  1.14s/it]\u001b[A\n",
            " 21% 22/105 [00:26<01:27,  1.06s/it]\u001b[A\n",
            " 22% 23/105 [00:27<01:22,  1.00s/it]\u001b[A\n",
            " 23% 24/105 [00:28<01:18,  1.04it/s]\u001b[A\n",
            " 24% 25/105 [00:29<01:15,  1.05it/s]\u001b[A\n",
            " 25% 26/105 [00:30<01:10,  1.12it/s]\u001b[A\n",
            " 26% 27/105 [00:30<01:04,  1.22it/s]\u001b[A\n",
            " 27% 28/105 [00:31<00:58,  1.31it/s]\u001b[A\n",
            " 28% 29/105 [00:32<00:55,  1.38it/s]\u001b[A\n",
            " 29% 30/105 [00:32<00:52,  1.43it/s]\u001b[A\n",
            " 30% 31/105 [00:33<00:49,  1.48it/s]\u001b[A\n",
            " 30% 32/105 [00:34<00:49,  1.46it/s]\u001b[A\n",
            " 31% 33/105 [00:34<00:47,  1.50it/s]\u001b[A\n",
            " 32% 34/105 [00:35<00:46,  1.54it/s]\u001b[A\n",
            " 33% 35/105 [00:36<00:45,  1.53it/s]\u001b[A\n",
            " 34% 36/105 [00:36<00:47,  1.45it/s]\u001b[A\n",
            " 35% 37/105 [00:37<00:49,  1.38it/s]\u001b[A\n",
            " 36% 38/105 [00:38<00:50,  1.34it/s]\u001b[A\n",
            " 37% 39/105 [00:39<00:50,  1.30it/s]\u001b[A\n",
            " 38% 40/105 [00:40<00:50,  1.29it/s]\u001b[A\n",
            " 39% 41/105 [00:40<00:49,  1.28it/s]\u001b[A\n",
            " 40% 42/105 [00:41<00:47,  1.32it/s]\u001b[A\n",
            " 41% 43/105 [00:42<00:46,  1.33it/s]\u001b[A\n",
            " 42% 44/105 [00:43<00:47,  1.30it/s]\u001b[A\n",
            " 43% 45/105 [00:43<00:46,  1.30it/s]\u001b[A\n",
            " 44% 46/105 [00:44<00:44,  1.32it/s]\u001b[A\n",
            " 45% 47/105 [00:45<00:43,  1.34it/s]\u001b[A\n",
            " 46% 48/105 [00:46<00:43,  1.32it/s]\u001b[A\n",
            " 47% 49/105 [00:46<00:41,  1.34it/s]\u001b[A\n",
            " 48% 50/105 [00:47<00:40,  1.35it/s]\u001b[A\n",
            " 49% 51/105 [00:48<00:39,  1.36it/s]\u001b[A\n",
            " 50% 52/105 [00:48<00:38,  1.37it/s]\u001b[A\n",
            " 50% 53/105 [00:49<00:37,  1.40it/s]\u001b[A\n",
            " 51% 54/105 [00:50<00:35,  1.43it/s]\u001b[A\n",
            " 52% 55/105 [00:51<00:35,  1.40it/s]\u001b[A\n",
            " 53% 56/105 [00:51<00:36,  1.34it/s]\u001b[A\n",
            " 54% 57/105 [00:52<00:37,  1.29it/s]\u001b[A\n",
            " 55% 58/105 [00:53<00:36,  1.28it/s]\u001b[A\n",
            " 56% 59/105 [00:54<00:36,  1.26it/s]\u001b[A\n",
            " 57% 60/105 [00:55<00:36,  1.25it/s]\u001b[A\n",
            " 58% 61/105 [00:55<00:34,  1.27it/s]\u001b[A\n",
            " 59% 62/105 [00:56<00:32,  1.32it/s]\u001b[A\n",
            " 60% 63/105 [00:57<00:30,  1.37it/s]\u001b[A\n",
            " 61% 64/105 [00:57<00:29,  1.39it/s]\u001b[A\n",
            " 62% 65/105 [00:58<00:28,  1.41it/s]\u001b[A\n",
            " 63% 66/105 [00:59<00:27,  1.42it/s]\u001b[A\n",
            " 64% 67/105 [01:00<00:26,  1.44it/s]\u001b[A\n",
            " 65% 68/105 [01:00<00:25,  1.45it/s]\u001b[A\n",
            " 66% 69/105 [01:01<00:24,  1.44it/s]\u001b[A\n",
            " 67% 70/105 [01:02<00:24,  1.44it/s]\u001b[A\n",
            " 68% 71/105 [01:02<00:23,  1.44it/s]\u001b[A\n",
            " 69% 72/105 [01:03<00:22,  1.44it/s]\u001b[A\n",
            " 70% 73/105 [01:04<00:22,  1.44it/s]\u001b[A\n",
            " 70% 74/105 [01:04<00:21,  1.45it/s]\u001b[A\n",
            " 71% 75/105 [01:05<00:20,  1.45it/s]\u001b[A\n",
            " 72% 76/105 [01:06<00:20,  1.40it/s]\u001b[A\n",
            " 73% 77/105 [01:07<00:20,  1.34it/s]\u001b[A\n",
            " 74% 78/105 [01:07<00:20,  1.30it/s]\u001b[A\n",
            " 75% 79/105 [01:08<00:20,  1.28it/s]\u001b[A\n",
            " 76% 80/105 [01:09<00:19,  1.27it/s]\u001b[A\n",
            " 77% 81/105 [01:10<00:18,  1.27it/s]\u001b[A\n",
            " 78% 82/105 [01:11<00:17,  1.33it/s]\u001b[A\n",
            " 79% 83/105 [01:11<00:15,  1.38it/s]\u001b[A\n",
            " 80% 84/105 [01:12<00:14,  1.41it/s]\u001b[A\n",
            " 81% 85/105 [01:13<00:14,  1.41it/s]\u001b[A\n",
            " 82% 86/105 [01:13<00:13,  1.42it/s]\u001b[A\n",
            " 83% 87/105 [01:14<00:12,  1.41it/s]\u001b[A\n",
            " 84% 88/105 [01:15<00:11,  1.43it/s]\u001b[A\n",
            " 85% 89/105 [01:15<00:11,  1.42it/s]\u001b[A\n",
            " 86% 90/105 [01:16<00:10,  1.43it/s]\u001b[A\n",
            " 87% 91/105 [01:17<00:09,  1.43it/s]\u001b[A\n",
            " 88% 92/105 [01:17<00:09,  1.44it/s]\u001b[A\n",
            " 89% 93/105 [01:18<00:08,  1.45it/s]\u001b[A\n",
            " 90% 94/105 [01:19<00:08,  1.33it/s]\u001b[A\n",
            " 90% 95/105 [01:21<00:11,  1.14s/it]\u001b[A\n",
            " 91% 96/105 [01:23<00:13,  1.49s/it]\u001b[A\n",
            " 92% 97/105 [01:25<00:12,  1.59s/it]\u001b[A\n",
            " 93% 98/105 [01:27<00:10,  1.56s/it]\u001b[A\n",
            " 94% 99/105 [01:28<00:09,  1.53s/it]\u001b[A\n",
            " 95% 100/105 [01:29<00:07,  1.47s/it]\u001b[A\n",
            " 96% 101/105 [01:30<00:04,  1.23s/it]\u001b[A\n",
            " 97% 102/105 [01:31<00:03,  1.08s/it]\u001b[A\n",
            " 98% 103/105 [01:32<00:01,  1.04it/s]\u001b[A\n",
            " 99% 104/105 [01:32<00:00,  1.05it/s]\u001b[A\n",
            "100% 105/105 [01:39<00:00,  1.06it/s]\n",
            "Load checkpoint from: checkpoints/wav2lip_gan.pth\n",
            "Model loaded\n",
            "100% 14/14 [01:41<00:00,  7.25s/it]\n"
          ]
        }
      ]
    },
    {
      "cell_type": "code",
      "source": [],
      "metadata": {
        "id": "kQRH-YkXeWoK"
      },
      "execution_count": null,
      "outputs": []
    }
  ]
}